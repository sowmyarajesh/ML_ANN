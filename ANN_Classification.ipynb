{
  "nbformat": 4,
  "nbformat_minor": 0,
  "metadata": {
    "colab": {
      "name": "ANN_Classification.ipynb",
      "provenance": [],
      "collapsed_sections": [],
      "toc_visible": true,
      "authorship_tag": "ABX9TyMIqoZLACw6z3D8fuj0KszA",
      "include_colab_link": true
    },
    "kernelspec": {
      "name": "python3",
      "display_name": "Python 3"
    },
    "language_info": {
      "name": "python"
    }
  },
  "cells": [
    {
      "cell_type": "markdown",
      "metadata": {
        "id": "view-in-github",
        "colab_type": "text"
      },
      "source": [
        "<a href=\"https://colab.research.google.com/github/sowmyarajesh/ML_ANN/blob/main/ANN_Classification.ipynb\" target=\"_parent\"><img src=\"https://colab.research.google.com/assets/colab-badge.svg\" alt=\"Open In Colab\"/></a>"
      ]
    },
    {
      "cell_type": "code",
      "execution_count": 1,
      "metadata": {
        "id": "Eu1sUg6gtC20"
      },
      "outputs": [],
      "source": [
        "import tensorflow as tf\n",
        "import numpy as np\n",
        "import pandas as pd\n",
        "import matplotlib.pyplot as plt"
      ]
    },
    {
      "cell_type": "code",
      "source": [
        "print(tf.__version__)"
      ],
      "metadata": {
        "colab": {
          "base_uri": "https://localhost:8080/"
        },
        "id": "857hN5HrthPy",
        "outputId": "16410c39-8d96-4861-c100-7489f78ea99a"
      },
      "execution_count": 2,
      "outputs": [
        {
          "output_type": "stream",
          "name": "stdout",
          "text": [
            "2.8.0\n"
          ]
        }
      ]
    },
    {
      "cell_type": "markdown",
      "source": [
        "### Load and preprocess the data"
      ],
      "metadata": {
        "id": "7uGJ7EWftmmz"
      }
    },
    {
      "cell_type": "code",
      "source": [
        "# import the dataset\n",
        "from tensorflow.keras.datasets import fashion_mnist\n",
        "(x_train,y_train), (x_test,y_test) = fashion_mnist.load_data()"
      ],
      "metadata": {
        "id": "RJikuS09tjvb"
      },
      "execution_count": 7,
      "outputs": []
    },
    {
      "cell_type": "markdown",
      "source": [
        "understanding the data"
      ],
      "metadata": {
        "id": "WTOJ7EXqurkX"
      }
    },
    {
      "cell_type": "code",
      "source": [
        "# size of the training and testing data set\n",
        "x_train.shape, x_test.shape\n"
      ],
      "metadata": {
        "colab": {
          "base_uri": "https://localhost:8080/"
        },
        "id": "EPt4qBIzt0zD",
        "outputId": "1cb1c679-ad01-4fe1-d931-2f7d519d6f7a"
      },
      "execution_count": 8,
      "outputs": [
        {
          "output_type": "execute_result",
          "data": {
            "text/plain": [
              "((60000, 28, 28), (10000, 28, 28))"
            ]
          },
          "metadata": {},
          "execution_count": 8
        }
      ]
    },
    {
      "cell_type": "code",
      "source": [
        "x_train[0]"
      ],
      "metadata": {
        "colab": {
          "base_uri": "https://localhost:8080/"
        },
        "id": "pKIrFUDuvDV_",
        "outputId": "7e401910-e23c-4bde-ddf3-fff69a9ead7b"
      },
      "execution_count": 11,
      "outputs": [
        {
          "output_type": "execute_result",
          "data": {
            "text/plain": [
              "array([[  0,   0,   0,   0,   0,   0,   0,   0,   0,   0,   0,   0,   0,\n",
              "          0,   0,   0,   0,   0,   0,   0,   0,   0,   0,   0,   0,   0,\n",
              "          0,   0],\n",
              "       [  0,   0,   0,   0,   0,   0,   0,   0,   0,   0,   0,   0,   0,\n",
              "          0,   0,   0,   0,   0,   0,   0,   0,   0,   0,   0,   0,   0,\n",
              "          0,   0],\n",
              "       [  0,   0,   0,   0,   0,   0,   0,   0,   0,   0,   0,   0,   0,\n",
              "          0,   0,   0,   0,   0,   0,   0,   0,   0,   0,   0,   0,   0,\n",
              "          0,   0],\n",
              "       [  0,   0,   0,   0,   0,   0,   0,   0,   0,   0,   0,   0,   1,\n",
              "          0,   0,  13,  73,   0,   0,   1,   4,   0,   0,   0,   0,   1,\n",
              "          1,   0],\n",
              "       [  0,   0,   0,   0,   0,   0,   0,   0,   0,   0,   0,   0,   3,\n",
              "          0,  36, 136, 127,  62,  54,   0,   0,   0,   1,   3,   4,   0,\n",
              "          0,   3],\n",
              "       [  0,   0,   0,   0,   0,   0,   0,   0,   0,   0,   0,   0,   6,\n",
              "          0, 102, 204, 176, 134, 144, 123,  23,   0,   0,   0,   0,  12,\n",
              "         10,   0],\n",
              "       [  0,   0,   0,   0,   0,   0,   0,   0,   0,   0,   0,   0,   0,\n",
              "          0, 155, 236, 207, 178, 107, 156, 161, 109,  64,  23,  77, 130,\n",
              "         72,  15],\n",
              "       [  0,   0,   0,   0,   0,   0,   0,   0,   0,   0,   0,   1,   0,\n",
              "         69, 207, 223, 218, 216, 216, 163, 127, 121, 122, 146, 141,  88,\n",
              "        172,  66],\n",
              "       [  0,   0,   0,   0,   0,   0,   0,   0,   0,   1,   1,   1,   0,\n",
              "        200, 232, 232, 233, 229, 223, 223, 215, 213, 164, 127, 123, 196,\n",
              "        229,   0],\n",
              "       [  0,   0,   0,   0,   0,   0,   0,   0,   0,   0,   0,   0,   0,\n",
              "        183, 225, 216, 223, 228, 235, 227, 224, 222, 224, 221, 223, 245,\n",
              "        173,   0],\n",
              "       [  0,   0,   0,   0,   0,   0,   0,   0,   0,   0,   0,   0,   0,\n",
              "        193, 228, 218, 213, 198, 180, 212, 210, 211, 213, 223, 220, 243,\n",
              "        202,   0],\n",
              "       [  0,   0,   0,   0,   0,   0,   0,   0,   0,   1,   3,   0,  12,\n",
              "        219, 220, 212, 218, 192, 169, 227, 208, 218, 224, 212, 226, 197,\n",
              "        209,  52],\n",
              "       [  0,   0,   0,   0,   0,   0,   0,   0,   0,   0,   6,   0,  99,\n",
              "        244, 222, 220, 218, 203, 198, 221, 215, 213, 222, 220, 245, 119,\n",
              "        167,  56],\n",
              "       [  0,   0,   0,   0,   0,   0,   0,   0,   0,   4,   0,   0,  55,\n",
              "        236, 228, 230, 228, 240, 232, 213, 218, 223, 234, 217, 217, 209,\n",
              "         92,   0],\n",
              "       [  0,   0,   1,   4,   6,   7,   2,   0,   0,   0,   0,   0, 237,\n",
              "        226, 217, 223, 222, 219, 222, 221, 216, 223, 229, 215, 218, 255,\n",
              "         77,   0],\n",
              "       [  0,   3,   0,   0,   0,   0,   0,   0,   0,  62, 145, 204, 228,\n",
              "        207, 213, 221, 218, 208, 211, 218, 224, 223, 219, 215, 224, 244,\n",
              "        159,   0],\n",
              "       [  0,   0,   0,   0,  18,  44,  82, 107, 189, 228, 220, 222, 217,\n",
              "        226, 200, 205, 211, 230, 224, 234, 176, 188, 250, 248, 233, 238,\n",
              "        215,   0],\n",
              "       [  0,  57, 187, 208, 224, 221, 224, 208, 204, 214, 208, 209, 200,\n",
              "        159, 245, 193, 206, 223, 255, 255, 221, 234, 221, 211, 220, 232,\n",
              "        246,   0],\n",
              "       [  3, 202, 228, 224, 221, 211, 211, 214, 205, 205, 205, 220, 240,\n",
              "         80, 150, 255, 229, 221, 188, 154, 191, 210, 204, 209, 222, 228,\n",
              "        225,   0],\n",
              "       [ 98, 233, 198, 210, 222, 229, 229, 234, 249, 220, 194, 215, 217,\n",
              "        241,  65,  73, 106, 117, 168, 219, 221, 215, 217, 223, 223, 224,\n",
              "        229,  29],\n",
              "       [ 75, 204, 212, 204, 193, 205, 211, 225, 216, 185, 197, 206, 198,\n",
              "        213, 240, 195, 227, 245, 239, 223, 218, 212, 209, 222, 220, 221,\n",
              "        230,  67],\n",
              "       [ 48, 203, 183, 194, 213, 197, 185, 190, 194, 192, 202, 214, 219,\n",
              "        221, 220, 236, 225, 216, 199, 206, 186, 181, 177, 172, 181, 205,\n",
              "        206, 115],\n",
              "       [  0, 122, 219, 193, 179, 171, 183, 196, 204, 210, 213, 207, 211,\n",
              "        210, 200, 196, 194, 191, 195, 191, 198, 192, 176, 156, 167, 177,\n",
              "        210,  92],\n",
              "       [  0,   0,  74, 189, 212, 191, 175, 172, 175, 181, 185, 188, 189,\n",
              "        188, 193, 198, 204, 209, 210, 210, 211, 188, 188, 194, 192, 216,\n",
              "        170,   0],\n",
              "       [  2,   0,   0,   0,  66, 200, 222, 237, 239, 242, 246, 243, 244,\n",
              "        221, 220, 193, 191, 179, 182, 182, 181, 176, 166, 168,  99,  58,\n",
              "          0,   0],\n",
              "       [  0,   0,   0,   0,   0,   0,   0,  40,  61,  44,  72,  41,  35,\n",
              "          0,   0,   0,   0,   0,   0,   0,   0,   0,   0,   0,   0,   0,\n",
              "          0,   0],\n",
              "       [  0,   0,   0,   0,   0,   0,   0,   0,   0,   0,   0,   0,   0,\n",
              "          0,   0,   0,   0,   0,   0,   0,   0,   0,   0,   0,   0,   0,\n",
              "          0,   0],\n",
              "       [  0,   0,   0,   0,   0,   0,   0,   0,   0,   0,   0,   0,   0,\n",
              "          0,   0,   0,   0,   0,   0,   0,   0,   0,   0,   0,   0,   0,\n",
              "          0,   0]], dtype=uint8)"
            ]
          },
          "metadata": {},
          "execution_count": 11
        }
      ]
    },
    {
      "cell_type": "code",
      "source": [
        "y_train[0]"
      ],
      "metadata": {
        "colab": {
          "base_uri": "https://localhost:8080/"
        },
        "id": "9MPm6Q1HveAb",
        "outputId": "10216efd-ba8b-4e86-bf01-3a38aec8ff74"
      },
      "execution_count": 13,
      "outputs": [
        {
          "output_type": "execute_result",
          "data": {
            "text/plain": [
              "9"
            ]
          },
          "metadata": {},
          "execution_count": 13
        }
      ]
    },
    {
      "cell_type": "markdown",
      "source": [
        "We see that the input data is a pixel value of the images in the 28 X 28 matrix.\n",
        "\n",
        "the output data is a categorical index of the type of clothing the image represents."
      ],
      "metadata": {
        "id": "mYlLv7b8vKJh"
      }
    },
    {
      "cell_type": "code",
      "source": [
        "# the max, min, average pixel value in the dataset\n",
        "np.max(x_train), np.min(x_train), np.mean(x_train)"
      ],
      "metadata": {
        "colab": {
          "base_uri": "https://localhost:8080/"
        },
        "id": "lX87vsgauhqM",
        "outputId": "2d6d6d36-8ae4-4f13-ead7-bc080af75a97"
      },
      "execution_count": 12,
      "outputs": [
        {
          "output_type": "execute_result",
          "data": {
            "text/plain": [
              "(255, 0, 72.94035223214286)"
            ]
          },
          "metadata": {},
          "execution_count": 12
        }
      ]
    },
    {
      "cell_type": "code",
      "source": [
        "np.max(y_train), np.min(y_train)"
      ],
      "metadata": {
        "colab": {
          "base_uri": "https://localhost:8080/"
        },
        "id": "qg-lMhEQu0BE",
        "outputId": "27be460f-3e4e-4dc1-828b-4a96b516ef5c"
      },
      "execution_count": 14,
      "outputs": [
        {
          "output_type": "execute_result",
          "data": {
            "text/plain": [
              "(9, 0)"
            ]
          },
          "metadata": {},
          "execution_count": 14
        }
      ]
    },
    {
      "cell_type": "markdown",
      "source": [
        "There are 10 catergories [0,1,..9]"
      ],
      "metadata": {
        "id": "wxvi39hXvywt"
      }
    },
    {
      "cell_type": "code",
      "source": [
        "categories = [\n",
        "    \"0 T-shirt/top\",\n",
        "    \"1 Trouser\",\n",
        "    \"2 Pullover\",\n",
        "    \"3 Dress\",\n",
        "    \"4 Coat\",\n",
        "    \"5 Sandal\",\n",
        "    \"6 Shirt\",\n",
        "    \"7 Sneaker\",\n",
        "    \"8 Bag\",\n",
        "    \"9 Ankle boot\"\n",
        "]"
      ],
      "metadata": {
        "id": "wRjRiCm9vxVo"
      },
      "execution_count": 15,
      "outputs": []
    },
    {
      "cell_type": "code",
      "source": [
        "plt.imshow(x_train[0], cmap='gray')"
      ],
      "metadata": {
        "colab": {
          "base_uri": "https://localhost:8080/",
          "height": 282
        },
        "id": "FqSWxfhawoQ9",
        "outputId": "68a9c43b-6d7d-4fbf-eb2a-2376e440e06d"
      },
      "execution_count": 17,
      "outputs": [
        {
          "output_type": "execute_result",
          "data": {
            "text/plain": [
              "<matplotlib.image.AxesImage at 0x7f62a09111d0>"
            ]
          },
          "metadata": {},
          "execution_count": 17
        },
        {
          "output_type": "display_data",
          "data": {
            "text/plain": [
              "<Figure size 432x288 with 1 Axes>"
            ],
            "image/png": "[encoded data removed]"
          },
          "metadata": {
            "needs_background": "light"
          }
        }
      ]
    },
    {
      "cell_type": "markdown",
      "source": [
        "Normalize the data"
      ],
      "metadata": {
        "id": "tREjDsTsyfnr"
      }
    },
    {
      "cell_type": "code",
      "source": [
        "x_train = x_train/255.0\n",
        "x_test = x_test/255.0"
      ],
      "metadata": {
        "id": "57scuhl0yUaB"
      },
      "execution_count": 18,
      "outputs": []
    },
    {
      "cell_type": "code",
      "source": [
        "plt.imshow(x_train[0], cmap=\"gray\")"
      ],
      "metadata": {
        "colab": {
          "base_uri": "https://localhost:8080/",
          "height": 282
        },
        "id": "iVoh8sZOyoiC",
        "outputId": "243254af-f31b-4446-e490-ae040a152cd9"
      },
      "execution_count": 19,
      "outputs": [
        {
          "output_type": "execute_result",
          "data": {
            "text/plain": [
              "<matplotlib.image.AxesImage at 0x7f62a08a8c90>"
            ]
          },
          "metadata": {},
          "execution_count": 19
        },
        {
          "output_type": "display_data",
          "data": {
            "text/plain": [
              "<Figure size 432x288 with 1 Axes>"
            ],
            "image/png": "[encoded data removed]"
          },
          "metadata": {
            "needs_background": "light"
          }
        }
      ]
    },
    {
      "cell_type": "markdown",
      "source": [
        "Flatten the data as the current input is 28 X 28\n"
      ],
      "metadata": {
        "id": "WOtC7uO2y8qu"
      }
    },
    {
      "cell_type": "code",
      "source": [
        "x_train = x_train.reshape(-1,28*28)\n",
        "x_test = x_test.reshape(-1,28*28)"
      ],
      "metadata": {
        "id": "g32DIdiMy3e7"
      },
      "execution_count": 20,
      "outputs": []
    },
    {
      "cell_type": "code",
      "source": [
        "x_train.shape, x_test.shape"
      ],
      "metadata": {
        "colab": {
          "base_uri": "https://localhost:8080/"
        },
        "id": "-AAA8E8p0byS",
        "outputId": "623e91b2-38cb-44b0-9e7f-e3e19ab71457"
      },
      "execution_count": 21,
      "outputs": [
        {
          "output_type": "execute_result",
          "data": {
            "text/plain": [
              "((60000, 784), (10000, 784))"
            ]
          },
          "metadata": {},
          "execution_count": 21
        }
      ]
    },
    {
      "cell_type": "markdown",
      "source": [
        "### Build the model\n",
        "\n",
        "To build the model,first initialize the model\n"
      ],
      "metadata": {
        "id": "bLmX5Z053fLv"
      }
    },
    {
      "cell_type": "code",
      "source": [
        "# initialize the sequence\n",
        "model = tf.keras.models.Sequential()\n"
      ],
      "metadata": {
        "id": "jFwAGML_0d7L"
      },
      "execution_count": 32,
      "outputs": []
    },
    {
      "cell_type": "markdown",
      "source": [
        "**Input layer**\n",
        "\n",
        " we will use the following parameters in input layer\n",
        "(units=128,  activation='relu',  input_shape=(784,))\n",
        "\n",
        "\n",
        "units : This can be any number with in the number of inputs to be filters from the input features. We start with different 128. \n",
        "\n",
        "activation: relu is the activation function as it is faster than sigmoid/ tanh functions\n",
        "\n",
        "input_shape : it shows the number of columns in the input. "
      ],
      "metadata": {
        "id": "of3NgKkfM1js"
      }
    },
    {
      "cell_type": "code",
      "source": [
        "inputLayer = tf.keras.layers.Dense(units=255, activation='relu', input_shape=((784,)))\n",
        "model.add(inputLayer)"
      ],
      "metadata": {
        "id": "kPdD_9G4M4_c"
      },
      "execution_count": 33,
      "outputs": []
    },
    {
      "cell_type": "markdown",
      "source": [
        "**Hidden Layer:**\n",
        "\n",
        "Add a hidden layer for dropout (regulaization technique where the features are randomly ignored during the training process. This means the ignored features are not considered during the backward propagation process).\n",
        "\n",
        "Dropout layer will help in reducing the chances of overfitting the model\n",
        "\n",
        "Dropout function will take the percentage of the features to drop"
      ],
      "metadata": {
        "id": "4Q4-eUkDLVQF"
      }
    },
    {
      "cell_type": "code",
      "source": [
        "hiddenLayer1 = tf.keras.layers.Dropout(0.2)\n",
        "model.add(hiddenLayer1)"
      ],
      "metadata": {
        "id": "7JU9qdRHKo1B"
      },
      "execution_count": 34,
      "outputs": []
    },
    {
      "cell_type": "markdown",
      "source": [
        "**Output layer:**\n",
        "\n",
        "Only two parameters are needed for the output layer in this function\n",
        "\n",
        "number of units to output = 10 as we have 10 classes\n",
        "\n",
        "activation later = softmax for this model.\n",
        "\n",
        "softmax function is used for multiclass classification\n",
        "\n",
        "sigmoid function is used for binary classification"
      ],
      "metadata": {
        "id": "GQF4SvZBLTKT"
      }
    },
    {
      "cell_type": "code",
      "source": [
        "outputLayer = tf.keras.layers.Dense(units=10, activation=\"softmax\")\n",
        "model.add(outputLayer)"
      ],
      "metadata": {
        "id": "rn-AksuRMTLJ"
      },
      "execution_count": 35,
      "outputs": []
    },
    {
      "cell_type": "markdown",
      "source": [
        "### Train the model"
      ],
      "metadata": {
        "id": "zf3YACRdNhVq"
      }
    },
    {
      "cell_type": "markdown",
      "source": [
        "**Compile the model:**\n",
        "\n",
        "First step to training is compile the defined model. \n",
        "\n",
        "The compiling step requires three parameters\n",
        "\n",
        "optimizer = the function used to minimize the loss function. \"adam\" is the most common optimizer used\n",
        "\n",
        "loss function = acts as a guide to the optimizer in the right direction so that optimizer can reach the global minimum. Since this is a multi-label classification problem, we will be using sparse_categorical_crossentropy\n",
        "\n",
        "metrices = this will list the performance metrices to be considered in guiding the optimizer in the right direction. In this model, we will be using the sparse_categorical_accuracy"
      ],
      "metadata": {
        "id": "2snaKIXGNtGK"
      }
    },
    {
      "cell_type": "code",
      "source": [
        "model.compile(optimizer=tf.keras.optimizers.Adam(learning_rate=1e-3),\n",
        "              loss=tf.keras.losses.SparseCategoricalCrossentropy(from_logits=True),\n",
        "              metrics=[tf.keras.metrics.SparseCategoricalAccuracy()])"
      ],
      "metadata": {
        "id": "9QFoFt_YN5lT"
      },
      "execution_count": 51,
      "outputs": []
    },
    {
      "cell_type": "code",
      "source": [
        "model.summary()"
      ],
      "metadata": {
        "colab": {
          "base_uri": "https://localhost:8080/"
        },
        "id": "RJNblgaJPFSE",
        "outputId": "b5c9ac79-1c92-459c-d689-bdf69c73c126"
      },
      "execution_count": 52,
      "outputs": [
        {
          "output_type": "stream",
          "name": "stdout",
          "text": [
            "Model: \"sequential_1\"\n",
            "_________________________________________________________________\n",
            " Layer (type)                Output Shape              Param #   \n",
            "=================================================================\n",
            " dense_3 (Dense)             (None, 255)               200175    \n",
            "                                                                 \n",
            " dropout_1 (Dropout)         (None, 255)               0         \n",
            "                                                                 \n",
            " dense_4 (Dense)             (None, 10)                2560      \n",
            "                                                                 \n",
            "=================================================================\n",
            "Total params: 202,735\n",
            "Trainable params: 202,735\n",
            "Non-trainable params: 0\n",
            "_________________________________________________________________\n"
          ]
        }
      ]
    },
    {
      "cell_type": "code",
      "source": [
        "model.fit(x=x_train, y=y_train, epochs=10)"
      ],
      "metadata": {
        "colab": {
          "base_uri": "https://localhost:8080/"
        },
        "id": "OQIzw5TeQNSP",
        "outputId": "d40f6892-d19c-4cd4-b809-7a8412e78b05"
      },
      "execution_count": 53,
      "outputs": [
        {
          "output_type": "stream",
          "name": "stdout",
          "text": [
            "Epoch 1/10\n"
          ]
        },
        {
          "output_type": "stream",
          "name": "stderr",
          "text": [
            "/usr/local/lib/python3.7/dist-packages/tensorflow/python/util/dispatch.py:1082: UserWarning: \"`sparse_categorical_crossentropy` received `from_logits=True`, but the `output` argument was produced by a sigmoid or softmax activation and thus does not represent logits. Was this intended?\"\n",
            "  return dispatch_target(*args, **kwargs)\n"
          ]
        },
        {
          "output_type": "stream",
          "name": "stdout",
          "text": [
            "1875/1875 [==============================] - 6s 3ms/step - loss: 0.2134 - sparse_categorical_accuracy: 0.9196\n",
            "Epoch 2/10\n",
            "1875/1875 [==============================] - 6s 3ms/step - loss: 0.2087 - sparse_categorical_accuracy: 0.9197\n",
            "Epoch 3/10\n",
            "1875/1875 [==============================] - 6s 3ms/step - loss: 0.2052 - sparse_categorical_accuracy: 0.9225\n",
            "Epoch 4/10\n",
            "1875/1875 [==============================] - 6s 3ms/step - loss: 0.1999 - sparse_categorical_accuracy: 0.9231\n",
            "Epoch 5/10\n",
            "1875/1875 [==============================] - 6s 3ms/step - loss: 0.2022 - sparse_categorical_accuracy: 0.9237\n",
            "Epoch 6/10\n",
            "1875/1875 [==============================] - 6s 3ms/step - loss: 0.1959 - sparse_categorical_accuracy: 0.9254\n",
            "Epoch 7/10\n",
            "1875/1875 [==============================] - 6s 3ms/step - loss: 0.1922 - sparse_categorical_accuracy: 0.9267\n",
            "Epoch 8/10\n",
            "1875/1875 [==============================] - 6s 3ms/step - loss: 0.1929 - sparse_categorical_accuracy: 0.9257\n",
            "Epoch 9/10\n",
            "1875/1875 [==============================] - 6s 3ms/step - loss: 0.1849 - sparse_categorical_accuracy: 0.9294\n",
            "Epoch 10/10\n",
            "1875/1875 [==============================] - 6s 3ms/step - loss: 0.1841 - sparse_categorical_accuracy: 0.9287\n"
          ]
        },
        {
          "output_type": "execute_result",
          "data": {
            "text/plain": [
              "<keras.callbacks.History at 0x7f6297da8510>"
            ]
          },
          "metadata": {},
          "execution_count": 53
        }
      ]
    },
    {
      "cell_type": "markdown",
      "source": [
        "### Evaluate the model"
      ],
      "metadata": {
        "id": "m049pZNARA3b"
      }
    },
    {
      "cell_type": "code",
      "source": [
        "test_loss, test_accuracy = model.evaluate(x_test,y_test)"
      ],
      "metadata": {
        "colab": {
          "base_uri": "https://localhost:8080/"
        },
        "id": "0hTm9ezmQdvW",
        "outputId": "f5238477-cc12-4c8c-83df-d72b69570e08"
      },
      "execution_count": 54,
      "outputs": [
        {
          "output_type": "stream",
          "name": "stdout",
          "text": [
            " 50/313 [===>..........................] - ETA: 0s - loss: 0.3523 - sparse_categorical_accuracy: 0.8969"
          ]
        },
        {
          "output_type": "stream",
          "name": "stderr",
          "text": [
            "/usr/local/lib/python3.7/dist-packages/tensorflow/python/util/dispatch.py:1082: UserWarning: \"`sparse_categorical_crossentropy` received `from_logits=True`, but the `output` argument was produced by a sigmoid or softmax activation and thus does not represent logits. Was this intended?\"\n",
            "  return dispatch_target(*args, **kwargs)\n"
          ]
        },
        {
          "output_type": "stream",
          "name": "stdout",
          "text": [
            "313/313 [==============================] - 1s 2ms/step - loss: 0.3750 - sparse_categorical_accuracy: 0.8904\n"
          ]
        }
      ]
    },
    {
      "cell_type": "code",
      "source": [
        "print(\"Accuracy value = \", test_accuracy)"
      ],
      "metadata": {
        "colab": {
          "base_uri": "https://localhost:8080/"
        },
        "id": "pqPudUxFRKH3",
        "outputId": "102dd311-3e95-44ed-a187-201833e3c2b3"
      },
      "execution_count": 55,
      "outputs": [
        {
          "output_type": "stream",
          "name": "stdout",
          "text": [
            "Accuracy value =  0.8903999924659729\n"
          ]
        }
      ]
    },
    {
      "cell_type": "code",
      "source": [
        "from sklearn import metrics\n",
        "\n",
        "y_pred =np.argmax(model.predict(x_test),axis=1)\n",
        "print(y_pred)\n",
        "metrics.confusion_matrix(y_test,y_pred)"
      ],
      "metadata": {
        "colab": {
          "base_uri": "https://localhost:8080/"
        },
        "id": "mP0LgdF3RUy3",
        "outputId": "d6310f82-b188-4496-a8e7-f474f687546a"
      },
      "execution_count": 61,
      "outputs": [
        {
          "output_type": "stream",
          "name": "stdout",
          "text": [
            "[9 2 1 ... 8 1 5]\n"
          ]
        },
        {
          "output_type": "execute_result",
          "data": {
            "text/plain": [
              "array([[890,   2,  15,  11,   1,   2,  74,   0,   5,   0],\n",
              "       [  2, 981,   1,   8,   2,   0,   6,   0,   0,   0],\n",
              "       [ 25,   1, 832,   5,  71,   0,  66,   0,   0,   0],\n",
              "       [ 30,   4,  16, 884,  31,   0,  31,   0,   4,   0],\n",
              "       [  0,   0,  99,  23, 794,   0,  82,   0,   2,   0],\n",
              "       [  0,   0,   0,   1,   0, 967,   0,  21,   0,  11],\n",
              "       [161,   2,  96,  18,  45,   0, 672,   0,   6,   0],\n",
              "       [  0,   0,   0,   0,   0,   6,   0, 982,   0,  12],\n",
              "       [  3,   0,   5,   5,   3,   5,   5,   2, 972,   0],\n",
              "       [  0,   0,   0,   0,   0,   7,   1,  62,   0, 930]])"
            ]
          },
          "metadata": {},
          "execution_count": 61
        }
      ]
    },
    {
      "cell_type": "code",
      "source": [
        "metrics.accuracy_score(y_test,y_pred)"
      ],
      "metadata": {
        "colab": {
          "base_uri": "https://localhost:8080/"
        },
        "id": "UCs5gt6oRruZ",
        "outputId": "05f698be-cff9-47a0-facb-8f703b940cad"
      },
      "execution_count": 62,
      "outputs": [
        {
          "output_type": "execute_result",
          "data": {
            "text/plain": [
              "0.8904"
            ]
          },
          "metadata": {},
          "execution_count": 62
        }
      ]
    },
    {
      "cell_type": "code",
      "source": [
        ""
      ],
      "metadata": {
        "id": "MpDOaedlXJP0"
      },
      "execution_count": null,
      "outputs": []
    }
  ]
}